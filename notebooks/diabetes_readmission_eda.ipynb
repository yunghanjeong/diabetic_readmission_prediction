{
 "cells": [
  {
   "cell_type": "markdown",
   "metadata": {},
   "source": [
    "# Overview\n",
    "\n",
    "This notebook will accomplish understanding of the relationship between predictors and predictant of the data set. Data visualization and statistical tests were used to gain insights regarding feature importance and feature engineering stategies. New features were engineerd in `data_prepartion.ipynb` for modeling. \n",
    "\n",
    "## Methods\n",
    "\n",
    "1. Understand statistical signifcance of features\n",
    "2. Create Visualization to convery statistical significance\n",
    "3. Perform statistical tests to understand feature significance\n",
    "\n",
    "## Summary\n",
    "\n",
    "The data was skewed towards patients with age greater 50 and with patients with inpatient length of days less than 5 days. Number of diagonses were heavily skewed at 9 diagnoses. All three factors were directly proportional to the readmission possibilties. Number of medication, number of inpatient visits and number of outpatient visits were statistically significant indicator of readmission possbilities. Number of procedures and number of lab procedures were statistically significant indicator separating no readmission and readmission, but was not significant for timing of the readmission. "
   ]
  },
  {
   "cell_type": "markdown",
   "metadata": {},
   "source": [
    "## Library Import"
   ]
  },
  {
   "cell_type": "code",
   "execution_count": 2,
   "metadata": {},
   "outputs": [],
   "source": [
    "import pandas as pd\n",
    "pd.set_option(\"display.max_columns\", 300)\n",
    "\n",
    "import numpy as np\n",
    "import matplotlib.pyplot as plt\n",
    "import seaborn as sns\n",
    "import os\n",
    "import scipy.stats as stat\n",
    "\n",
    "%matplotlib inline"
   ]
  },
  {
   "cell_type": "markdown",
   "metadata": {},
   "source": [
    "## Import Data"
   ]
  },
  {
   "cell_type": "code",
   "execution_count": 4,
   "metadata": {},
   "outputs": [],
   "source": [
    "# pre-cleaned data\n",
    "clean_df = pd.read_csv(r\"..\\data\\diabetic_data_preclean.csv\", index_col=0)"
   ]
  },
  {
   "cell_type": "code",
   "execution_count": 5,
   "metadata": {},
   "outputs": [
    {
     "data": {
      "text/html": [
       "<div>\n",
       "<style scoped>\n",
       "    .dataframe tbody tr th:only-of-type {\n",
       "        vertical-align: middle;\n",
       "    }\n",
       "\n",
       "    .dataframe tbody tr th {\n",
       "        vertical-align: top;\n",
       "    }\n",
       "\n",
       "    .dataframe thead th {\n",
       "        text-align: right;\n",
       "    }\n",
       "</style>\n",
       "<table border=\"1\" class=\"dataframe\">\n",
       "  <thead>\n",
       "    <tr style=\"text-align: right;\">\n",
       "      <th></th>\n",
       "      <th>race</th>\n",
       "      <th>gender</th>\n",
       "      <th>age</th>\n",
       "      <th>admission_type_id</th>\n",
       "      <th>discharge_disposition_id</th>\n",
       "      <th>admission_source_id</th>\n",
       "      <th>time_in_hospital</th>\n",
       "      <th>num_lab_procedures</th>\n",
       "      <th>num_procedures</th>\n",
       "      <th>num_medications</th>\n",
       "      <th>number_outpatient</th>\n",
       "      <th>number_emergency</th>\n",
       "      <th>number_inpatient</th>\n",
       "      <th>diag_1</th>\n",
       "      <th>diag_2</th>\n",
       "      <th>diag_3</th>\n",
       "      <th>number_diagnoses</th>\n",
       "      <th>max_glu_serum</th>\n",
       "      <th>A1Cresult</th>\n",
       "      <th>metformin</th>\n",
       "      <th>repaglinide</th>\n",
       "      <th>nateglinide</th>\n",
       "      <th>chlorpropamide</th>\n",
       "      <th>glimepiride</th>\n",
       "      <th>glipizide</th>\n",
       "      <th>glyburide</th>\n",
       "      <th>pioglitazone</th>\n",
       "      <th>rosiglitazone</th>\n",
       "      <th>acarbose</th>\n",
       "      <th>miglitol</th>\n",
       "      <th>tolazamide</th>\n",
       "      <th>insulin</th>\n",
       "      <th>glyburide-metformin</th>\n",
       "      <th>change</th>\n",
       "      <th>diabetesMed</th>\n",
       "      <th>readmitted</th>\n",
       "    </tr>\n",
       "  </thead>\n",
       "  <tbody>\n",
       "    <tr>\n",
       "      <th>0</th>\n",
       "      <td>Caucasian</td>\n",
       "      <td>Female</td>\n",
       "      <td>[0-10)</td>\n",
       "      <td>6</td>\n",
       "      <td>25</td>\n",
       "      <td>1</td>\n",
       "      <td>1</td>\n",
       "      <td>41</td>\n",
       "      <td>0</td>\n",
       "      <td>1</td>\n",
       "      <td>0</td>\n",
       "      <td>0</td>\n",
       "      <td>0</td>\n",
       "      <td>250.83</td>\n",
       "      <td>?</td>\n",
       "      <td>?</td>\n",
       "      <td>1</td>\n",
       "      <td>None</td>\n",
       "      <td>None</td>\n",
       "      <td>No</td>\n",
       "      <td>No</td>\n",
       "      <td>No</td>\n",
       "      <td>No</td>\n",
       "      <td>No</td>\n",
       "      <td>No</td>\n",
       "      <td>No</td>\n",
       "      <td>No</td>\n",
       "      <td>No</td>\n",
       "      <td>No</td>\n",
       "      <td>No</td>\n",
       "      <td>No</td>\n",
       "      <td>No</td>\n",
       "      <td>No</td>\n",
       "      <td>No</td>\n",
       "      <td>No</td>\n",
       "      <td>0</td>\n",
       "    </tr>\n",
       "    <tr>\n",
       "      <th>1</th>\n",
       "      <td>Caucasian</td>\n",
       "      <td>Female</td>\n",
       "      <td>[10-20)</td>\n",
       "      <td>1</td>\n",
       "      <td>1</td>\n",
       "      <td>7</td>\n",
       "      <td>3</td>\n",
       "      <td>59</td>\n",
       "      <td>0</td>\n",
       "      <td>18</td>\n",
       "      <td>0</td>\n",
       "      <td>0</td>\n",
       "      <td>0</td>\n",
       "      <td>276</td>\n",
       "      <td>250.01</td>\n",
       "      <td>255</td>\n",
       "      <td>9</td>\n",
       "      <td>None</td>\n",
       "      <td>None</td>\n",
       "      <td>No</td>\n",
       "      <td>No</td>\n",
       "      <td>No</td>\n",
       "      <td>No</td>\n",
       "      <td>No</td>\n",
       "      <td>No</td>\n",
       "      <td>No</td>\n",
       "      <td>No</td>\n",
       "      <td>No</td>\n",
       "      <td>No</td>\n",
       "      <td>No</td>\n",
       "      <td>No</td>\n",
       "      <td>Up</td>\n",
       "      <td>No</td>\n",
       "      <td>Ch</td>\n",
       "      <td>Yes</td>\n",
       "      <td>2</td>\n",
       "    </tr>\n",
       "    <tr>\n",
       "      <th>2</th>\n",
       "      <td>AfricanAmerican</td>\n",
       "      <td>Female</td>\n",
       "      <td>[20-30)</td>\n",
       "      <td>1</td>\n",
       "      <td>1</td>\n",
       "      <td>7</td>\n",
       "      <td>2</td>\n",
       "      <td>11</td>\n",
       "      <td>5</td>\n",
       "      <td>13</td>\n",
       "      <td>2</td>\n",
       "      <td>0</td>\n",
       "      <td>1</td>\n",
       "      <td>648</td>\n",
       "      <td>250</td>\n",
       "      <td>V27</td>\n",
       "      <td>6</td>\n",
       "      <td>None</td>\n",
       "      <td>None</td>\n",
       "      <td>No</td>\n",
       "      <td>No</td>\n",
       "      <td>No</td>\n",
       "      <td>No</td>\n",
       "      <td>No</td>\n",
       "      <td>Steady</td>\n",
       "      <td>No</td>\n",
       "      <td>No</td>\n",
       "      <td>No</td>\n",
       "      <td>No</td>\n",
       "      <td>No</td>\n",
       "      <td>No</td>\n",
       "      <td>No</td>\n",
       "      <td>No</td>\n",
       "      <td>No</td>\n",
       "      <td>Yes</td>\n",
       "      <td>0</td>\n",
       "    </tr>\n",
       "    <tr>\n",
       "      <th>3</th>\n",
       "      <td>Caucasian</td>\n",
       "      <td>Male</td>\n",
       "      <td>[30-40)</td>\n",
       "      <td>1</td>\n",
       "      <td>1</td>\n",
       "      <td>7</td>\n",
       "      <td>2</td>\n",
       "      <td>44</td>\n",
       "      <td>1</td>\n",
       "      <td>16</td>\n",
       "      <td>0</td>\n",
       "      <td>0</td>\n",
       "      <td>0</td>\n",
       "      <td>8</td>\n",
       "      <td>250.43</td>\n",
       "      <td>403</td>\n",
       "      <td>7</td>\n",
       "      <td>None</td>\n",
       "      <td>None</td>\n",
       "      <td>No</td>\n",
       "      <td>No</td>\n",
       "      <td>No</td>\n",
       "      <td>No</td>\n",
       "      <td>No</td>\n",
       "      <td>No</td>\n",
       "      <td>No</td>\n",
       "      <td>No</td>\n",
       "      <td>No</td>\n",
       "      <td>No</td>\n",
       "      <td>No</td>\n",
       "      <td>No</td>\n",
       "      <td>Up</td>\n",
       "      <td>No</td>\n",
       "      <td>Ch</td>\n",
       "      <td>Yes</td>\n",
       "      <td>0</td>\n",
       "    </tr>\n",
       "    <tr>\n",
       "      <th>4</th>\n",
       "      <td>Caucasian</td>\n",
       "      <td>Male</td>\n",
       "      <td>[40-50)</td>\n",
       "      <td>1</td>\n",
       "      <td>1</td>\n",
       "      <td>7</td>\n",
       "      <td>1</td>\n",
       "      <td>51</td>\n",
       "      <td>0</td>\n",
       "      <td>8</td>\n",
       "      <td>0</td>\n",
       "      <td>0</td>\n",
       "      <td>0</td>\n",
       "      <td>197</td>\n",
       "      <td>157</td>\n",
       "      <td>250</td>\n",
       "      <td>5</td>\n",
       "      <td>None</td>\n",
       "      <td>None</td>\n",
       "      <td>No</td>\n",
       "      <td>No</td>\n",
       "      <td>No</td>\n",
       "      <td>No</td>\n",
       "      <td>No</td>\n",
       "      <td>Steady</td>\n",
       "      <td>No</td>\n",
       "      <td>No</td>\n",
       "      <td>No</td>\n",
       "      <td>No</td>\n",
       "      <td>No</td>\n",
       "      <td>No</td>\n",
       "      <td>Steady</td>\n",
       "      <td>No</td>\n",
       "      <td>Ch</td>\n",
       "      <td>Yes</td>\n",
       "      <td>0</td>\n",
       "    </tr>\n",
       "  </tbody>\n",
       "</table>\n",
       "</div>"
      ],
      "text/plain": [
       "              race  gender      age  admission_type_id  \\\n",
       "0        Caucasian  Female   [0-10)                  6   \n",
       "1        Caucasian  Female  [10-20)                  1   \n",
       "2  AfricanAmerican  Female  [20-30)                  1   \n",
       "3        Caucasian    Male  [30-40)                  1   \n",
       "4        Caucasian    Male  [40-50)                  1   \n",
       "\n",
       "   discharge_disposition_id  admission_source_id  time_in_hospital  \\\n",
       "0                        25                    1                 1   \n",
       "1                         1                    7                 3   \n",
       "2                         1                    7                 2   \n",
       "3                         1                    7                 2   \n",
       "4                         1                    7                 1   \n",
       "\n",
       "   num_lab_procedures  num_procedures  num_medications  number_outpatient  \\\n",
       "0                  41               0                1                  0   \n",
       "1                  59               0               18                  0   \n",
       "2                  11               5               13                  2   \n",
       "3                  44               1               16                  0   \n",
       "4                  51               0                8                  0   \n",
       "\n",
       "   number_emergency  number_inpatient  diag_1  diag_2 diag_3  \\\n",
       "0                 0                 0  250.83       ?      ?   \n",
       "1                 0                 0     276  250.01    255   \n",
       "2                 0                 1     648     250    V27   \n",
       "3                 0                 0       8  250.43    403   \n",
       "4                 0                 0     197     157    250   \n",
       "\n",
       "   number_diagnoses max_glu_serum A1Cresult metformin repaglinide nateglinide  \\\n",
       "0                 1          None      None        No          No          No   \n",
       "1                 9          None      None        No          No          No   \n",
       "2                 6          None      None        No          No          No   \n",
       "3                 7          None      None        No          No          No   \n",
       "4                 5          None      None        No          No          No   \n",
       "\n",
       "  chlorpropamide glimepiride glipizide glyburide pioglitazone rosiglitazone  \\\n",
       "0             No          No        No        No           No            No   \n",
       "1             No          No        No        No           No            No   \n",
       "2             No          No    Steady        No           No            No   \n",
       "3             No          No        No        No           No            No   \n",
       "4             No          No    Steady        No           No            No   \n",
       "\n",
       "  acarbose miglitol tolazamide insulin glyburide-metformin change diabetesMed  \\\n",
       "0       No       No         No      No                  No     No          No   \n",
       "1       No       No         No      Up                  No     Ch         Yes   \n",
       "2       No       No         No      No                  No     No         Yes   \n",
       "3       No       No         No      Up                  No     Ch         Yes   \n",
       "4       No       No         No  Steady                  No     Ch         Yes   \n",
       "\n",
       "   readmitted  \n",
       "0           0  \n",
       "1           2  \n",
       "2           0  \n",
       "3           0  \n",
       "4           0  "
      ]
     },
     "execution_count": 5,
     "metadata": {},
     "output_type": "execute_result"
    }
   ],
   "source": [
    "clean_df.head()"
   ]
  },
  {
   "cell_type": "markdown",
   "metadata": {},
   "source": [
    "## T-test on Select Features\n",
    "\n",
    "alpha = 0.5 <br>\n",
    "\n",
    "Selected Features = Number of Medication, Procedure, and Lab Procedures <Br>\n",
    "\n",
    "Null Hypothesis: Selected Features are not significant factors determining readmission. <br>\n",
    "Alternative Hypothesis: Selected Features are significant factors determining readmission. <br>"
   ]
  },
  {
   "cell_type": "code",
   "execution_count": 4,
   "metadata": {
    "scrolled": true
   },
   "outputs": [
    {
     "name": "stdout",
     "output_type": "stream",
     "text": [
      "num_medications T-test for readmission 0 vs 1 P-value:  2.149293623995029e-48\n",
      "Reject Null Hypothesis \n",
      "\n",
      "num_medications T-test for readmission 1 vs 2 P-value:  5.853119998295598e-13\n",
      "Reject Null Hypothesis \n",
      "\n",
      "num_medications T-test for readmission 0 vs 2 P-value:  1.1152690198545309e-29\n",
      "Reject Null Hypothesis \n",
      "\n",
      "num_procedures T-test for readmission 0 vs 1 P-value:  3.495894289451428e-14\n",
      "Reject Null Hypothesis \n",
      "\n",
      "num_procedures T-test for readmission 1 vs 2 P-value:  0.07753339914164716\n",
      "FAILURE to Reject Null Hypothesis \n",
      "\n",
      "num_procedures T-test for readmission 0 vs 2 P-value:  7.285489746058182e-44\n",
      "Reject Null Hypothesis \n",
      "\n",
      "num_lab_procedures T-test for readmission 0 vs 1 P-value:  2.859491382144581e-20\n",
      "Reject Null Hypothesis \n",
      "\n",
      "num_lab_procedures T-test for readmission 1 vs 2 P-value:  0.06186164189328136\n",
      "FAILURE to Reject Null Hypothesis \n",
      "\n",
      "num_lab_procedures T-test for readmission 0 vs 2 P-value:  1.7302681119088142e-27\n",
      "Reject Null Hypothesis \n",
      "\n",
      "number_outpatient T-test for readmission 0 vs 1 P-value:  3.042365256924141e-36\n",
      "Reject Null Hypothesis \n",
      "\n",
      "number_outpatient T-test for readmission 1 vs 2 P-value:  5.4087049503185655e-05\n",
      "Reject Null Hypothesis \n",
      "\n",
      "number_outpatient T-test for readmission 0 vs 2 P-value:  1.018022280724015e-126\n",
      "Reject Null Hypothesis \n",
      "\n",
      "number_inpatient T-test for readmission 0 vs 1 P-value:  0.0\n",
      "Reject Null Hypothesis \n",
      "\n",
      "number_inpatient T-test for readmission 1 vs 2 P-value:  2.0084994652621277e-83\n",
      "Reject Null Hypothesis \n",
      "\n",
      "number_inpatient T-test for readmission 0 vs 2 P-value:  0.0\n",
      "Reject Null Hypothesis \n",
      "\n"
     ]
    }
   ],
   "source": [
    "features = [\"num_medications\", \"num_procedures\", \"num_lab_procedures\", \"number_outpatient\", \"number_inpatient\"]\n",
    "alpha = 0.05\n",
    "\n",
    "for feature in features:\n",
    "    #slice data\n",
    "    readmit_0 = clean_df[clean_df.readmitted == 0][feature]\n",
    "    readmit_1 = clean_df[clean_df.readmitted == 1][feature]\n",
    "    readmit_2 = clean_df[clean_df.readmitted == 2][feature]\n",
    "    \n",
    "    #series of t-test\n",
    "    num_med_0_1 = stat.ttest_ind(readmit_0, readmit_1, equal_var = False)[1]\n",
    "    num_med_1_2 = stat.ttest_ind(readmit_1, readmit_2, equal_var = False)[1]\n",
    "    num_med_0_2 = stat.ttest_ind(readmit_0, readmit_2, equal_var = False)[1]\n",
    "    \n",
    "    if num_med_0_1 <= alpha:\n",
    "        print(f\"{feature} T-test for readmission 0 vs 1 P-value: \", num_med_0_1)\n",
    "        print(\"Reject Null Hypothesis\", \"\\n\")\n",
    "    else:\n",
    "        print(f\"{feature} T-test for readmission 0 vs 1 P-value: \", num_med_0_1)\n",
    "        print(\"FAILURE to Reject Null Hypothesis\", \"\\n\")\n",
    "    if num_med_1_2 <= alpha:\n",
    "        print(f\"{feature} T-test for readmission 1 vs 2 P-value: \", num_med_1_2)\n",
    "        print(\"Reject Null Hypothesis\", \"\\n\")\n",
    "    else:\n",
    "        print(f\"{feature} T-test for readmission 1 vs 2 P-value: \", num_med_1_2)\n",
    "        print(\"FAILURE to Reject Null Hypothesis\", \"\\n\")\n",
    "    if num_med_0_2 <= alpha:\n",
    "        print(f\"{feature} T-test for readmission 0 vs 2 P-value: \", num_med_0_2)\n",
    "        print(\"Reject Null Hypothesis\", \"\\n\")\n",
    "    else:\n",
    "        print(f\"{feature} T-test for readmission 0 vs 2 P-value: \", num_med_0_2)\n",
    "        print(\"FAILURE to Reject Null Hypothesis\", \"\\n\")"
   ]
  },
  {
   "cell_type": "markdown",
   "metadata": {},
   "source": [
    "#### T-test Results\n",
    "\n",
    "- Null hypothesis can be rejected for number of medications, statistical significance were found between number of medication in determining readmission status\n",
    "\n",
    "- Failed to reject null hypothesis on statistical significance of number of procedures determining readmission within or after 30 days. \n",
    "\n",
    "- Failed to reject null hypothesis on statistical significance of number of lab procedures determining readmission within or after 30 days. \n",
    "\n",
    "- Number of inpatient T-test displaying p-values of 0 demonstrated very large frequency imbalance between the three groups. "
   ]
  },
  {
   "cell_type": "markdown",
   "metadata": {},
   "source": [
    "## Violin Plot of significant features\n",
    "\n",
    "Number of medication, number of inpatient visits, and number of outpatient visits were all significant factors in determining readmission possibility for all outcomes. \n",
    "\n",
    "### Number of Medications"
   ]
  },
  {
   "cell_type": "code",
   "execution_count": 6,
   "metadata": {},
   "outputs": [
    {
     "data": {
      "image/png": "[encoded data removed]",
      "text/plain": [
       "<Figure size 432x576 with 3 Axes>"
      ]
     },
     "metadata": {
      "needs_background": "light"
     },
     "output_type": "display_data"
    }
   ],
   "source": [
    "#set color?\n",
    "sns.set_palette(\"rocket\")\n",
    "#data slice\n",
    "x0 = clean_df[clean_df.readmitted == 0][\"num_medications\"]\n",
    "x1 = clean_df[clean_df.readmitted == 1][\"num_medications\"]\n",
    "x2 = clean_df[clean_df.readmitted == 2][\"num_medications\"]\n",
    "\n",
    "#set subplots\n",
    "fig, ax = plt.subplots(3,1, figsize=(6,8))\n",
    "#subplot 1\n",
    "sns.violinplot(x0, color=\"lightgrey\", ax=ax[0], inner=\"quartile\")\n",
    "ax[0].set_title(\"No Readmission\")\n",
    "ax[0].set_xlim(-5,85)\n",
    "ax[0].set_xlabel(\"# of Medications\")\n",
    "\n",
    "#subplot 2\n",
    "sns.violinplot(x1, color=\"cornflowerblue\", ax=ax[1], inner=\"quartile\")\n",
    "ax[1].set_title(\"Readmission in <30 Days\")\n",
    "ax[1].set_xlim(-5,85)\n",
    "ax[1].set_xlabel(\"# of Medications\")\n",
    "\n",
    "#subplot 3\n",
    "sns.violinplot(x2, color=\"blue\", ax=ax[2], inner=\"quartile\")\n",
    "ax[2].set_title(\"Readmission in >30 Days\")\n",
    "ax[2].set_xlim(-5,85)\n",
    "ax[2].set_xlabel(\"# of Medications\")\n",
    "\n",
    "#prettify\n",
    "plt.suptitle(\"Distribution of Medication Data per Readmission Status\")\n",
    "plt.tight_layout(); #make it neat\n",
    "\n",
    "plt.show();"
   ]
  },
  {
   "cell_type": "markdown",
   "metadata": {},
   "source": [
    "Number of medications have small data spared difference when divided by readmission status. First, the readmission within <30 days had highest spread in number of medication. Second, the mean medication among this group was higher than mean of other readmission status. This can be interpreted as high risk (more likely to return) patients are assigned more medicaiton to support them. "
   ]
  },
  {
   "cell_type": "code",
   "execution_count": 7,
   "metadata": {},
   "outputs": [
    {
     "data": {
      "image/png": "[encoded data removed]",
      "text/plain": [
       "<Figure size 432x576 with 3 Axes>"
      ]
     },
     "metadata": {
      "needs_background": "light"
     },
     "output_type": "display_data"
    }
   ],
   "source": [
    "# data slice\n",
    "x0 = clean_df[clean_df.readmitted == 0][\"number_inpatient\"]\n",
    "x1 = clean_df[clean_df.readmitted == 1][\"number_inpatient\"]\n",
    "x2 = clean_df[clean_df.readmitted == 2][\"number_inpatient\"]\n",
    "\n",
    "# plot\n",
    "fig, ax = plt.subplots(3,1, figsize=(6,8))\n",
    "# subplot 1\n",
    "sns.violinplot(x0, color=\"lightgrey\", alpha=0.7, ax=ax[0])\n",
    "ax[0].set_title(\"No Readmission\")\n",
    "ax[0].set_xlim(-2, 25)\n",
    "ax[0].set_xlabel(\"# of Inpatient\")\n",
    "\n",
    "# subplot 2\n",
    "sns.violinplot(x1, color=\"cornflowerblue\", alpha=0.7, ax=ax[1])\n",
    "ax[1].set_title(\"Readmission in <30 Days\")\n",
    "ax[1].set_xlim(-2, 25)\n",
    "ax[1].set_xlabel(\"# of Inpatient\")\n",
    "\n",
    "# subplot 3\n",
    "sns.violinplot(x2, color=\"blue\", alpha=0.7, ax=ax[2])\n",
    "ax[2].set_title(\"Readmission in >30 Days\")\n",
    "ax[2].set_xlim(-2, 25)\n",
    "ax[2].set_xlabel(\"# of Inpatient\")\n",
    "\n",
    "# prettify\n",
    "plt.suptitle(\"Distribution of Inpatient Days per Readmission Status\")\n",
    "plt.tight_layout(); #make it neat\n",
    "\n",
    "plt.show();"
   ]
  },
  {
   "cell_type": "markdown",
   "metadata": {},
   "source": [
    "Number of inpatient days demonstrated significant data spread when separated by readmission status. Readmission within 30 days shows higher frequency and spared of number of inpatient days. Most patients with no readmission had 0 inpatient visits. "
   ]
  },
  {
   "cell_type": "markdown",
   "metadata": {},
   "source": [
    "## Stacked Bar Plots\n",
    "\n",
    "### Age"
   ]
  },
  {
   "cell_type": "code",
   "execution_count": 7,
   "metadata": {},
   "outputs": [
    {
     "name": "stdout",
     "output_type": "stream",
     "text": [
      "Age Summary\n",
      "\n",
      "\n",
      "readmitted      0     1     2\n",
      "age                          \n",
      "[0-10)        132     3    26\n",
      "[10-20)       427    40   224\n",
      "[20-30)       911   236   510\n",
      "[30-40)      2164   424  1187\n",
      "[40-50)      5380  1027  3278\n",
      "[50-60)      9671  1668  5917\n",
      "[60-70)     12083  2502  7897\n",
      "[70-80)     13522  3069  9475\n",
      "[80-90)      8896  2078  6223\n",
      "[90-100)     1675   310   808\n"
     ]
    },
    {
     "data": {
      "image/png": "[encoded data removed]",
      "text/plain": [
       "<Figure size 432x288 with 1 Axes>"
      ]
     },
     "metadata": {
      "needs_background": "light"
     },
     "output_type": "display_data"
    }
   ],
   "source": [
    "# Age summary\n",
    "print('Age Summary')\n",
    "\n",
    "print('\\n')\n",
    "print(clean_df.groupby(['age','readmitted']).age.count().unstack())\n",
    "\n",
    "# Age class visualization\n",
    "ageclass = clean_df.groupby(['age','readmitted']).age.count().unstack()\n",
    "p1 = ageclass.plot(kind = 'bar', stacked = True, \n",
    "                   title = 'Patients by Age: Not Readmitted vs. Readmitted', \n",
    "                   color = ['grey','lightgreen', 'blue'], alpha = .70)\n",
    "p1.set_xlabel('Age')\n",
    "p1.set_ylabel('Readmitted')\n",
    "p1.legend(['No','<30', '>30'])\n",
    "#plt.savefig('../image/Age_Readmiited.png')\n",
    "plt.show()"
   ]
  },
  {
   "cell_type": "markdown",
   "metadata": {},
   "source": [
    "As we can see in the graph above, there is a skew towards ages greater than 50 years old."
   ]
  },
  {
   "cell_type": "code",
   "execution_count": null,
   "metadata": {},
   "outputs": [],
   "source": []
  },
  {
   "cell_type": "markdown",
   "metadata": {},
   "source": [
    "### Probability of Readmittance by Age"
   ]
  },
  {
   "cell_type": "code",
   "execution_count": 8,
   "metadata": {},
   "outputs": [
    {
     "name": "stdout",
     "output_type": "stream",
     "text": [
      "Probability of Readmittance by Age Summary\n",
      "\n",
      "\n",
      "readmitted         0         1         2\n",
      "age                                     \n",
      "[0-10)      0.819876  0.018634  0.161491\n",
      "[10-20)     0.617945  0.057887  0.324168\n",
      "[20-30)     0.549789  0.142426  0.307785\n",
      "[30-40)     0.573245  0.112318  0.314437\n",
      "[40-50)     0.555498  0.106040  0.338462\n",
      "[50-60)     0.560443  0.096662  0.342895\n",
      "[60-70)     0.537452  0.111289  0.351259\n",
      "[70-80)     0.518760  0.117740  0.363500\n",
      "[80-90)     0.517300  0.120835  0.361865\n",
      "[90-100)    0.599714  0.110992  0.289295\n"
     ]
    },
    {
     "data": {
      "image/png": "[encoded data removed]",
      "text/plain": [
       "<Figure size 432x288 with 1 Axes>"
      ]
     },
     "metadata": {
      "needs_background": "light"
     },
     "output_type": "display_data"
    }
   ],
   "source": [
    "ppa = clean_df.groupby(['age','readmitted']).age.count().unstack()\n",
    "spa = clean_df.groupby(['age','readmitted']).age.count().unstack()\n",
    "tpa = clean_df.groupby(['readmitted', 'age']).readmitted.count().unstack().sum()\n",
    "for x in range(0, 3):\n",
    "    ppa[x] = spa[x] / tpa\n",
    "\n",
    "print('Probability of Readmittance by Age Summary')\n",
    "print('\\n')\n",
    "print(ppa)\n",
    "\n",
    "# Probability of Readmittance by Age visualization\n",
    "p1 = ppa.plot(kind = 'bar', stacked = True, \n",
    "                   title = 'Patients by Age: Not Readmitted vs. Readmitted', \n",
    "                   color = ['grey','lightgreen', 'blue'], alpha = .70)\n",
    "p1.set_xlabel('Age')\n",
    "p1.set_ylabel('Readmitted')\n",
    "p1.legend(['No','<30', '>30'])\n",
    "#plt.savefig('../image/Percentage_Age_Readmitted.png')\n",
    "plt.show()"
   ]
  },
  {
   "cell_type": "markdown",
   "metadata": {},
   "source": [
    "From the graph above, we can see that for the most part, as age increases, the probability of readmittance increases. The probability of readmittance after 30 days greater then before 30 days."
   ]
  },
  {
   "cell_type": "markdown",
   "metadata": {},
   "source": [
    "### Length of Hospital Stay"
   ]
  },
  {
   "cell_type": "code",
   "execution_count": 9,
   "metadata": {},
   "outputs": [
    {
     "name": "stdout",
     "output_type": "stream",
     "text": [
      "Hospital Stay Summary\n",
      "\n",
      "\n",
      "readmitted           0     1     2\n",
      "time_in_hospital                  \n",
      "1                 8573  1162  4471\n",
      "2                 9593  1712  5919\n",
      "3                 9777  1894  6085\n",
      "4                 7216  1644  5064\n",
      "5                 5181  1199  3586\n",
      "6                 3835   949  2755\n",
      "7                 2984   752  2123\n",
      "8                 2176   625  1589\n",
      "9                 1491   412  1099\n",
      "10                1168   336   838\n",
      "11                 961   195   699\n",
      "12                 737   193   518\n",
      "13                 640   149   421\n",
      "14                 529   135   378\n"
     ]
    },
    {
     "data": {
      "image/png": "[encoded data removed]",
      "text/plain": [
       "<Figure size 432x288 with 1 Axes>"
      ]
     },
     "metadata": {
      "needs_background": "light"
     },
     "output_type": "display_data"
    }
   ],
   "source": [
    "# Hospital Stay class summary\n",
    "print('Hospital Stay Summary')\n",
    "\n",
    "print('\\n')\n",
    "print(clean_df.groupby(['time_in_hospital','readmitted']).time_in_hospital.count().unstack())\n",
    "\n",
    "# Hospital Stay visualization\n",
    "hospital_stay = clean_df.groupby(['time_in_hospital','readmitted']).time_in_hospital.count().unstack()\n",
    "p1 = hospital_stay.plot(kind = 'bar', stacked = True, \n",
    "                   title = 'Patients by Hospital Stay: Not Readmitted vs. Readmitted', \n",
    "                   color = ['grey','lightgreen', 'blue'], alpha = .70)\n",
    "p1.set_xlabel('Hospital Stay')\n",
    "p1.set_ylabel('Readmitted')\n",
    "p1.legend(['No','<30', '>30'])\n",
    "#plt.savefig('../image/Hospital_Stay_Readmitted.png')\n",
    "plt.show()"
   ]
  },
  {
   "cell_type": "markdown",
   "metadata": {},
   "source": [
    "There is a skew in the frequency of hospital stay lengths towards stays less than 5 days."
   ]
  },
  {
   "cell_type": "markdown",
   "metadata": {},
   "source": [
    "### Probability of Readmittance by Length of Hospital Stay"
   ]
  },
  {
   "cell_type": "code",
   "execution_count": 11,
   "metadata": {},
   "outputs": [
    {
     "name": "stdout",
     "output_type": "stream",
     "text": [
      "Probability of Readmittance by Length of Hospital Stay Summary\n",
      "\n",
      "\n",
      "readmitted               0         1         2\n",
      "time_in_hospital                              \n",
      "1                 0.603477  0.081796  0.314726\n",
      "2                 0.556955  0.099396  0.343648\n",
      "3                 0.550631  0.106668  0.342701\n",
      "4                 0.518242  0.118070  0.363689\n",
      "5                 0.519868  0.120309  0.359823\n",
      "6                 0.508688  0.125879  0.365433\n",
      "7                 0.509302  0.128350  0.362349\n",
      "8                 0.495672  0.142369  0.361959\n",
      "9                 0.496669  0.137242  0.366089\n",
      "10                0.498719  0.143467  0.357814\n",
      "11                0.518059  0.105121  0.376819\n",
      "12                0.508978  0.133287  0.357735\n",
      "13                0.528926  0.123140  0.347934\n",
      "14                0.507678  0.129559  0.362764\n"
     ]
    },
    {
     "data": {
      "image/png": "[encoded data removed]",
      "text/plain": [
       "<Figure size 432x288 with 1 Axes>"
      ]
     },
     "metadata": {
      "needs_background": "light"
     },
     "output_type": "display_data"
    }
   ],
   "source": [
    "pph = clean_df.groupby(['time_in_hospital','readmitted']).time_in_hospital.count().unstack()\n",
    "sph = clean_df.groupby(['time_in_hospital','readmitted']).time_in_hospital.count().unstack()\n",
    "tph = clean_df.groupby(['readmitted', 'time_in_hospital']).readmitted.count().unstack().sum()\n",
    "for x in range(0, 3):\n",
    "    pph[x] = sph[x] / tph\n",
    "\n",
    "print('Probability of Readmittance by Length of Hospital Stay Summary')\n",
    "print('\\n')\n",
    "print(pph)\n",
    "\n",
    "# Probability of Readmittance by Length of Hospital Stay Visualization\n",
    "p1 = pph.plot(kind = 'bar', stacked = True, \n",
    "                   title = 'Patients by Hospital Stay: Not Readmitted vs. Readmitted', \n",
    "                   color = ['grey','lightgreen', 'blue'], alpha = .70)\n",
    "p1.set_xlabel('Hospital Stay')\n",
    "p1.set_ylabel('Readmitted')\n",
    "p1.legend(['No','<30', '>30'])\n",
    "#plt.savefig('../image/Percentage_Hospital_Stay_Readmitted.png')\n",
    "plt.show()"
   ]
  },
  {
   "cell_type": "code",
   "execution_count": 12,
   "metadata": {},
   "outputs": [
    {
     "name": "stdout",
     "output_type": "stream",
     "text": [
      "Number of Diagnoses Summary\n",
      "\n",
      "\n",
      "readmitted            0     1      2\n",
      "number_diagnoses                    \n",
      "1                   167    13     39\n",
      "2                   687    62    274\n",
      "3                  1863   209    763\n",
      "4                  3473   457   1606\n",
      "5                  7353  1043   2996\n",
      "6                  5706  1058   3397\n",
      "7                  5542  1119   3732\n",
      "8                  5564  1254   3798\n",
      "9                 24447  6125  18901\n",
      "10                    9     3      5\n",
      "11                    3     3      5\n",
      "12                    5     1      3\n",
      "13                    7     3      6\n",
      "14                    3     1      3\n",
      "15                    5     2      3\n",
      "16                   27     4     14\n"
     ]
    },
    {
     "data": {
      "image/png": "[encoded data removed]",
      "text/plain": [
       "<Figure size 432x288 with 1 Axes>"
      ]
     },
     "metadata": {
      "needs_background": "light"
     },
     "output_type": "display_data"
    }
   ],
   "source": [
    "# diagnosis summary\n",
    "print('Number of Diagnoses Summary')\n",
    "\n",
    "print('\\n')\n",
    "print(clean_df.groupby(['number_diagnoses','readmitted']).number_diagnoses.count().unstack())\n",
    "\n",
    "# gender visualization\n",
    "nodclass = clean_df.groupby(['number_diagnoses','readmitted']).number_diagnoses.count().unstack()\n",
    "p1 = nodclass.iloc[0:9, :].plot(kind = 'bar', stacked = True, \n",
    "                   title = 'Patients by Number of Diagnoses: Not Readmitted vs. Readmitted', \n",
    "                   color = ['grey','lightgreen', 'blue'], alpha = .70)\n",
    "p1.set_xlabel('Number of Diagnoses')\n",
    "p1.set_ylabel('Readmitted')\n",
    "p1.legend(['No','<30', '>30'])\n",
    "#plt.savefig('../image/NoD_Readmitted.png')\n",
    "plt.show()"
   ]
  },
  {
   "cell_type": "markdown",
   "metadata": {},
   "source": [
    "Due to the lack of data for patients with diagnoses greater than 9, the graph only shows the first 9 bars. Patients with 9 diagnoses are most frequent in the dataset. "
   ]
  },
  {
   "cell_type": "markdown",
   "metadata": {},
   "source": [
    "### Probability of Readmittance by Number of Diagnoses"
   ]
  },
  {
   "cell_type": "code",
   "execution_count": 13,
   "metadata": {},
   "outputs": [
    {
     "name": "stdout",
     "output_type": "stream",
     "text": [
      "Probability of Readmittance by Number of Diagnoses Summary\n",
      "\n",
      "\n",
      "readmitted               0         1         2\n",
      "number_diagnoses                              \n",
      "1                 0.762557  0.059361  0.178082\n",
      "2                 0.671554  0.060606  0.267840\n",
      "3                 0.657143  0.073721  0.269136\n",
      "4                 0.627348  0.082551  0.290101\n",
      "5                 0.645453  0.091555  0.262992\n",
      "6                 0.561559  0.104124  0.334317\n",
      "7                 0.533244  0.107669  0.359088\n",
      "8                 0.524115  0.118124  0.357762\n",
      "9                 0.494148  0.123805  0.382047\n",
      "10                0.529412  0.176471  0.294118\n",
      "11                0.272727  0.272727  0.454545\n",
      "12                0.555556  0.111111  0.333333\n",
      "13                0.437500  0.187500  0.375000\n",
      "14                0.428571  0.142857  0.428571\n",
      "15                0.500000  0.200000  0.300000\n",
      "16                0.600000  0.088889  0.311111\n"
     ]
    },
    {
     "data": {
      "image/png": "[encoded data removed]",
      "text/plain": [
       "<Figure size 432x288 with 1 Axes>"
      ]
     },
     "metadata": {
      "needs_background": "light"
     },
     "output_type": "display_data"
    }
   ],
   "source": [
    "ppnd = clean_df.groupby(['number_diagnoses','readmitted']).number_diagnoses.count().unstack()\n",
    "spnd = clean_df.groupby(['number_diagnoses','readmitted']).number_diagnoses.count().unstack()\n",
    "tpnd = clean_df.groupby(['readmitted', 'number_diagnoses']).readmitted.count().unstack().sum()\n",
    "for x in range(0, 3):\n",
    "    ppnd[x] = spnd[x] / tpnd\n",
    "\n",
    "print('Probability of Readmittance by Number of Diagnoses Summary')\n",
    "print('\\n')\n",
    "print(ppnd)\n",
    "\n",
    "# Probability of Readmittance by Number of Diagnoses Visualization\n",
    "# ignoring values greater than 9, due to insignificant amount of data\n",
    "p1 = ppnd.iloc[0:9, :].plot(kind = 'line', stacked = True, \n",
    "                   title = 'Patients by Number of Diagnoses: Not Readmitted vs. Readmitted', \n",
    "                   color = ['grey','lightgreen', 'blue'], alpha = .70)\n",
    "p1.set_xlabel('Number of Diagnoses')\n",
    "p1.set_ylabel('Readmitted')\n",
    "plt.fill_between(ppnd.iloc[0:9, :].index, ppnd.iloc[0:9, :][0], color = 'gray', alpha = 0.2) # fill in between the lines with color of readmittance\n",
    "plt.fill_between(ppnd.iloc[0:9, :].index, ppnd.iloc[0:9, :][0] + ppnd.iloc[0:9, :][1], ppnd.iloc[0:9, :][0], color = 'lightgreen', alpha = 0.2)\n",
    "plt.fill_between(ppnd.iloc[0:9, :].index, 1 - ppnd.iloc[0:9, :][2], 1, color = 'blue', alpha = 0.2)\n",
    "p1.set_ylim(0.4, 1) # Taking a closer look at change in percentage by only looking above 40%\n",
    "p1.legend(['No','<30', '>30'])\n",
    "#plt.savefig('../image/Percentage_NoD_Readmitted.png')\n",
    "plt.show()"
   ]
  },
  {
   "cell_type": "markdown",
   "metadata": {},
   "source": [
    "The probability of being readmitted generally increases as the number of diagnoses increases."
   ]
  },
  {
   "cell_type": "code",
   "execution_count": null,
   "metadata": {},
   "outputs": [],
   "source": []
  }
 ],
 "metadata": {
  "kernelspec": {
   "display_name": "Python 3",
   "language": "python",
   "name": "python3"
  },
  "language_info": {
   "codemirror_mode": {
    "name": "ipython",
    "version": 3
   },
   "file_extension": ".py",
   "mimetype": "text/x-python",
   "name": "python",
   "nbconvert_exporter": "python",
   "pygments_lexer": "ipython3",
   "version": "3.7.1"
  }
 },
 "nbformat": 4,
 "nbformat_minor": 4
}
