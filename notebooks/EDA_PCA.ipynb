{
 "cells": [
  {
   "cell_type": "code",
   "execution_count": 20,
   "metadata": {},
   "outputs": [],
   "source": [
    "import pandas as pd\n",
    "import numpy as np\n",
    "import matplotlib.pyplot as plt\n",
    "%matplotlib inline"
   ]
  },
  {
   "cell_type": "code",
   "execution_count": 2,
   "metadata": {},
   "outputs": [],
   "source": [
    "df = pd.read_csv(\"../data/diabetic_data_dummy.csv\")"
   ]
  },
  {
   "cell_type": "code",
   "execution_count": 3,
   "metadata": {},
   "outputs": [
    {
     "data": {
      "text/plain": [
       "Index(['Unnamed: 0', 'gender', 'time_in_hospital', 'num_lab_procedures',\n",
       "       'num_procedures', 'num_medications', 'number_outpatient',\n",
       "       'number_emergency', 'number_inpatient', 'number_diagnoses',\n",
       "       ...\n",
       "       'diag_2_neoplasms', 'diag_2_respiratory', 'diag_3_circulatory',\n",
       "       'diag_3_diabetes', 'diag_3_digestive', 'diag_3_genitourinary',\n",
       "       'diag_3_injury', 'diag_3_musculoskeletal', 'diag_3_neoplasms',\n",
       "       'diag_3_respiratory'],\n",
       "      dtype='object', length=146)"
      ]
     },
     "execution_count": 3,
     "metadata": {},
     "output_type": "execute_result"
    }
   ],
   "source": [
    "df.columns"
   ]
  },
  {
   "cell_type": "code",
   "execution_count": 4,
   "metadata": {},
   "outputs": [],
   "source": [
    "features = ['time_in_hospital', 'num_lab_procedures',\n",
    "       'num_procedures', 'num_medications', 'number_outpatient',\n",
    "       'number_emergency', 'number_inpatient', 'number_diagnoses']"
   ]
  },
  {
   "cell_type": "code",
   "execution_count": 5,
   "metadata": {},
   "outputs": [],
   "source": [
    "from sklearn.preprocessing import StandardScaler\n",
    "ss = StandardScaler()\n",
    "x = df.loc[:, features].values\n",
    "x_scaled = ss.fit_transform(x)"
   ]
  },
  {
   "cell_type": "code",
   "execution_count": 8,
   "metadata": {},
   "outputs": [],
   "source": [
    "from sklearn.decomposition import PCA\n",
    "pca = PCA()\n",
    "principalComponents = pca.fit_transform(x_scaled)"
   ]
  },
  {
   "cell_type": "code",
   "execution_count": 9,
   "metadata": {},
   "outputs": [
    {
     "data": {
      "text/plain": [
       "array([[-3.2113268 , -0.73436198, -0.5555918 , ..., -0.09758612,\n",
       "        -0.02284042, -0.20941083],\n",
       "       [ 0.13777804, -0.17806093, -0.90651692, ...,  0.59765654,\n",
       "        -0.38054532,  0.64438776],\n",
       "       [-0.67694879, -0.07777486,  2.89347816, ..., -0.63544115,\n",
       "        -0.58899024, -0.68537525],\n",
       "       ...,\n",
       "       [-0.17241222,  0.66947406, -0.46011947, ...,  1.06336304,\n",
       "        -1.10150148, -0.14662954],\n",
       "       [ 1.79092735, -0.1871065 , -0.28780966, ..., -0.52910833,\n",
       "         0.82172718, -0.64765488],\n",
       "       [-0.67146625, -0.51960805,  0.92298536, ..., -0.03963579,\n",
       "         0.45320599, -1.8736315 ]])"
      ]
     },
     "execution_count": 9,
     "metadata": {},
     "output_type": "execute_result"
    }
   ],
   "source": [
    "principalComponents"
   ]
  },
  {
   "cell_type": "code",
   "execution_count": 10,
   "metadata": {},
   "outputs": [],
   "source": [
    "principalDf = pd.DataFrame(data = principalComponents, columns = ['principal component 1', 'principal component 2',\n",
    "                                                                 'principal component 3','principal component 4',\n",
    "                                                                 'principal component 5','principal component 6',\n",
    "                                                                  'pricipal component 7', 'principal component 8'])"
   ]
  },
  {
   "cell_type": "code",
   "execution_count": 24,
   "metadata": {},
   "outputs": [],
   "source": [
    "pc1 = pca.components_[0]\n",
    "pc2 = pca.components_[1]"
   ]
  },
  {
   "cell_type": "code",
   "execution_count": 15,
   "metadata": {},
   "outputs": [],
   "source": [
    "eig_values = pca.explained_variance_\n",
    "eig_vectors = pca.components_"
   ]
  },
  {
   "cell_type": "code",
   "execution_count": 16,
   "metadata": {},
   "outputs": [
    {
     "data": {
      "text/plain": [
       "time_in_hospital      0.741971\n",
       "num_lab_procedures    0.546421\n",
       "num_procedures        0.490442\n",
       "num_medications       0.804102\n",
       "number_outpatient     0.082212\n",
       "number_emergency      0.061985\n",
       "number_inpatient      0.168269\n",
       "number_diagnoses      0.506210\n",
       "dtype: float64"
      ]
     },
     "execution_count": 16,
     "metadata": {},
     "output_type": "execute_result"
    }
   ],
   "source": [
    "structure_loading_1 = pc1* np.sqrt(eig_values[0])\n",
    "str_loading_1 = pd.Series(structure_loading_1, index=features)\n",
    "str_loading_1"
   ]
  },
  {
   "cell_type": "code",
   "execution_count": 18,
   "metadata": {
    "scrolled": true
   },
   "outputs": [
    {
     "data": {
      "text/plain": [
       "num_medications       0.804102\n",
       "time_in_hospital      0.741971\n",
       "num_lab_procedures    0.546421\n",
       "number_diagnoses      0.506210\n",
       "num_procedures        0.490442\n",
       "number_inpatient      0.168269\n",
       "number_outpatient     0.082212\n",
       "number_emergency      0.061985\n",
       "dtype: float64"
      ]
     },
     "execution_count": 18,
     "metadata": {},
     "output_type": "execute_result"
    }
   ],
   "source": [
    "str_loading_1.sort_values(ascending=False)\n",
    "# principal component 1 describes Patients with Many Health Complications"
   ]
  },
  {
   "cell_type": "code",
   "execution_count": 27,
   "metadata": {},
   "outputs": [
    {
     "data": {
      "text/plain": [
       "number_inpatient      0.715911\n",
       "number_emergency      0.692486\n",
       "number_outpatient     0.448498\n",
       "number_diagnoses      0.226619\n",
       "num_lab_procedures   -0.032144\n",
       "time_in_hospital     -0.074994\n",
       "num_medications      -0.098826\n",
       "num_procedures       -0.330935\n",
       "dtype: float64"
      ]
     },
     "execution_count": 27,
     "metadata": {},
     "output_type": "execute_result"
    }
   ],
   "source": [
    "structure_loading_2 = pc2* np.sqrt(eig_values[1])\n",
    "str_loading_2 = pd.Series(structure_loading_2, index=features)\n",
    "str_loading_2.sort_values(ascending=False)\n",
    "# principal component 2 describing patient who is getting better from the previous years"
   ]
  },
  {
   "cell_type": "code",
   "execution_count": 21,
   "metadata": {},
   "outputs": [
    {
     "data": {
      "text/plain": [
       "Text(0, 0.5, 'proportion of explained variance')"
      ]
     },
     "execution_count": 21,
     "metadata": {},
     "output_type": "execute_result"
    },
    {
     "data": {
      "image/png": "[encoded data removed]",
      "text/plain": [
       "<Figure size 432x288 with 1 Axes>"
      ]
     },
     "metadata": {
      "needs_background": "light"
     },
     "output_type": "display_data"
    }
   ],
   "source": [
    "index = np.arange(8)\n",
    "plt.bar(index, pca.explained_variance_ratio_)\n",
    "plt.title('Scree plot for PCA')\n",
    "plt.xlabel('Num of components')\n",
    "plt.ylabel('proportion of explained variance')\n",
    "# The first two pcs are most important, but none truly dominate indicators of data variance."
   ]
  },
  {
   "cell_type": "code",
   "execution_count": null,
   "metadata": {},
   "outputs": [],
   "source": []
  }
 ],
 "metadata": {
  "kernelspec": {
   "display_name": "learn-env",
   "language": "python",
   "name": "learn-env"
  },
  "language_info": {
   "codemirror_mode": {
    "name": "ipython",
    "version": 3
   },
   "file_extension": ".py",
   "mimetype": "text/x-python",
   "name": "python",
   "nbconvert_exporter": "python",
   "pygments_lexer": "ipython3",
   "version": "3.6.9"
  }
 },
 "nbformat": 4,
 "nbformat_minor": 4
}
